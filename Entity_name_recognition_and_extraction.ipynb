{
 "cells": [
  {
   "cell_type": "code",
   "execution_count": 75,
   "id": "7f2ce4d7",
   "metadata": {},
   "outputs": [],
   "source": [
    "# Load Pkgs\n",
    "import pandas as pd\n",
    "import numpy as np\n",
    "import numpy as np\n",
    "import matplotlib.pyplot as plt"
   ]
  },
  {
   "cell_type": "code",
   "execution_count": 76,
   "id": "7c497784",
   "metadata": {},
   "outputs": [],
   "source": [
    "# Load NLP Pkgs\n",
    "import spacy\n",
    "from wordcloud import WordCloud, STOPWORDS\n",
    "from spacy.util import minibatch, compounding\n",
    "import matplotlib.pyplot as plt\n",
    "import re\n",
    "import random\n",
    "from spacy.training.example import Example"
   ]
  },
  {
   "cell_type": "code",
   "execution_count": 80,
   "id": "9970df29",
   "metadata": {
    "scrolled": true
   },
   "outputs": [
    {
     "data": {
      "text/plain": [
       "161297"
      ]
     },
     "execution_count": 80,
     "metadata": {},
     "output_type": "execute_result"
    }
   ],
   "source": [
    "# Load Dataset\n",
    "df = pd.read_csv(\"drug_review_dataset_with_sentiment.csv\")\n",
    "len(df)"
   ]
  },
  {
   "cell_type": "code",
   "execution_count": 81,
   "id": "0ffc0a58",
   "metadata": {},
   "outputs": [
    {
     "data": {
      "text/html": [
       "<div>\n",
       "<style scoped>\n",
       "    .dataframe tbody tr th:only-of-type {\n",
       "        vertical-align: middle;\n",
       "    }\n",
       "\n",
       "    .dataframe tbody tr th {\n",
       "        vertical-align: top;\n",
       "    }\n",
       "\n",
       "    .dataframe thead th {\n",
       "        text-align: right;\n",
       "    }\n",
       "</style>\n",
       "<table border=\"1\" class=\"dataframe\">\n",
       "  <thead>\n",
       "    <tr style=\"text-align: right;\">\n",
       "      <th></th>\n",
       "      <th>Unnamed: 0</th>\n",
       "      <th>drugName</th>\n",
       "      <th>condition</th>\n",
       "      <th>review</th>\n",
       "      <th>rating</th>\n",
       "      <th>date</th>\n",
       "      <th>usefulCount</th>\n",
       "      <th>drug_class</th>\n",
       "      <th>sentiment</th>\n",
       "      <th>sentiment_label</th>\n",
       "    </tr>\n",
       "  </thead>\n",
       "  <tbody>\n",
       "    <tr>\n",
       "      <th>0</th>\n",
       "      <td>206461</td>\n",
       "      <td>Valsartan</td>\n",
       "      <td>Left Ventricular Dysfunction</td>\n",
       "      <td>\"It has no side effect, I take it in combinati...</td>\n",
       "      <td>9.0</td>\n",
       "      <td>May 20, 2012</td>\n",
       "      <td>27</td>\n",
       "      <td>arb blocker</td>\n",
       "      <td>0.000000</td>\n",
       "      <td>neutral</td>\n",
       "    </tr>\n",
       "    <tr>\n",
       "      <th>1</th>\n",
       "      <td>95260</td>\n",
       "      <td>Guanfacine</td>\n",
       "      <td>ADHD</td>\n",
       "      <td>\"My son is halfway through his fourth week of ...</td>\n",
       "      <td>8.0</td>\n",
       "      <td>April 27, 2010</td>\n",
       "      <td>192</td>\n",
       "      <td>NaN</td>\n",
       "      <td>0.168333</td>\n",
       "      <td>positive</td>\n",
       "    </tr>\n",
       "    <tr>\n",
       "      <th>2</th>\n",
       "      <td>92703</td>\n",
       "      <td>Lybrel</td>\n",
       "      <td>Birth Control</td>\n",
       "      <td>\"I used to take another oral contraceptive, wh...</td>\n",
       "      <td>5.0</td>\n",
       "      <td>December 14, 2009</td>\n",
       "      <td>17</td>\n",
       "      <td>NaN</td>\n",
       "      <td>0.067210</td>\n",
       "      <td>positive</td>\n",
       "    </tr>\n",
       "    <tr>\n",
       "      <th>3</th>\n",
       "      <td>138000</td>\n",
       "      <td>Ortho Evra</td>\n",
       "      <td>Birth Control</td>\n",
       "      <td>\"This is my first time using any form of birth...</td>\n",
       "      <td>8.0</td>\n",
       "      <td>November 3, 2015</td>\n",
       "      <td>10</td>\n",
       "      <td>NaN</td>\n",
       "      <td>0.179545</td>\n",
       "      <td>positive</td>\n",
       "    </tr>\n",
       "    <tr>\n",
       "      <th>4</th>\n",
       "      <td>35696</td>\n",
       "      <td>Buprenorphine / naloxone</td>\n",
       "      <td>Opiate Dependence</td>\n",
       "      <td>\"Suboxone has completely turned my life around...</td>\n",
       "      <td>9.0</td>\n",
       "      <td>November 27, 2016</td>\n",
       "      <td>37</td>\n",
       "      <td>NaN</td>\n",
       "      <td>0.194444</td>\n",
       "      <td>positive</td>\n",
       "    </tr>\n",
       "  </tbody>\n",
       "</table>\n",
       "</div>"
      ],
      "text/plain": [
       "   Unnamed: 0                  drugName                     condition  \\\n",
       "0      206461                 Valsartan  Left Ventricular Dysfunction   \n",
       "1       95260                Guanfacine                          ADHD   \n",
       "2       92703                    Lybrel                 Birth Control   \n",
       "3      138000                Ortho Evra                 Birth Control   \n",
       "4       35696  Buprenorphine / naloxone             Opiate Dependence   \n",
       "\n",
       "                                              review  rating  \\\n",
       "0  \"It has no side effect, I take it in combinati...     9.0   \n",
       "1  \"My son is halfway through his fourth week of ...     8.0   \n",
       "2  \"I used to take another oral contraceptive, wh...     5.0   \n",
       "3  \"This is my first time using any form of birth...     8.0   \n",
       "4  \"Suboxone has completely turned my life around...     9.0   \n",
       "\n",
       "                date  usefulCount   drug_class  sentiment sentiment_label  \n",
       "0       May 20, 2012           27  arb blocker   0.000000         neutral  \n",
       "1     April 27, 2010          192          NaN   0.168333        positive  \n",
       "2  December 14, 2009           17          NaN   0.067210        positive  \n",
       "3   November 3, 2015           10          NaN   0.179545        positive  \n",
       "4  November 27, 2016           37          NaN   0.194444        positive  "
      ]
     },
     "execution_count": 81,
     "metadata": {},
     "output_type": "execute_result"
    }
   ],
   "source": [
    "df.head()"
   ]
  },
  {
   "cell_type": "code",
   "execution_count": 79,
   "id": "74192bcb",
   "metadata": {},
   "outputs": [],
   "source": [
    "# NER\n",
    "nlp0 = spacy.load('en_core_web_sm')"
   ]
  },
  {
   "cell_type": "code",
   "execution_count": 6,
   "id": "40d9b95f",
   "metadata": {},
   "outputs": [
    {
     "data": {
      "text/plain": [
       "['tok2vec', 'tagger', 'parser', 'attribute_ruler', 'lemmatizer', 'ner']"
      ]
     },
     "execution_count": 6,
     "metadata": {},
     "output_type": "execute_result"
    }
   ],
   "source": [
    "# Get All Components of this NLP Object\n",
    "nlp0.pipe_names"
   ]
  },
  {
   "cell_type": "code",
   "execution_count": 82,
   "id": "4578c7d8",
   "metadata": {},
   "outputs": [],
   "source": [
    "ner0 = nlp0.get_pipe('ner')"
   ]
  },
  {
   "cell_type": "code",
   "execution_count": null,
   "id": "ef7c6878",
   "metadata": {},
   "outputs": [],
   "source": []
  },
  {
   "cell_type": "code",
   "execution_count": 83,
   "id": "b428686a",
   "metadata": {},
   "outputs": [],
   "source": [
    "# Example\n",
    "ex1 = \"James went to London to buy Ibuprofen last year 2019\""
   ]
  },
  {
   "cell_type": "code",
   "execution_count": 84,
   "id": "ec90aeb4",
   "metadata": {},
   "outputs": [],
   "source": [
    "docx = nlp0(ex1)"
   ]
  },
  {
   "cell_type": "code",
   "execution_count": 85,
   "id": "c8212885",
   "metadata": {},
   "outputs": [
    {
     "data": {
      "text/plain": [
       "spacy.tokens.doc.Doc"
      ]
     },
     "execution_count": 85,
     "metadata": {},
     "output_type": "execute_result"
    }
   ],
   "source": [
    "type(docx)"
   ]
  },
  {
   "cell_type": "code",
   "execution_count": 86,
   "id": "7887d18b",
   "metadata": {},
   "outputs": [
    {
     "name": "stdout",
     "output_type": "stream",
     "text": [
      "London GPE\n",
      "Ibuprofen ORG\n",
      "last year 2019 DATE\n"
     ]
    }
   ],
   "source": [
    "# Check for entities\n",
    "for entity in docx.ents:\n",
    "    print(entity,entity.label_)"
   ]
  },
  {
   "cell_type": "markdown",
   "id": "814c8a32",
   "metadata": {},
   "source": [
    "### Preparing the data \n",
    "\n",
    "Training data must be a tuple\n",
    "\n",
    "TRAIN_DATA = [ (\"Who is Shaka Khan?\", {\"entities\": [(START, STOP, \"LABEL\")]}) ]\n",
    "\n",
    "\n",
    "TRAIN_DATA = [ (\"Who is Shaka Khan?\", {\"entities\": [(7, 17, \"PERSON\")]}), (\"I like London and Berlin.\", {\"entities\": [(7, 13, \"LOC\"), (18, 24, \"LOC\")]}), ]"
   ]
  },
  {
   "cell_type": "code",
   "execution_count": 87,
   "id": "4bc97ce3",
   "metadata": {},
   "outputs": [],
   "source": [
    "def process_review(review):\n",
    "    processed_token = []\n",
    "    for token in review.split():\n",
    "        token = ''.join(e.lower() for e in token if e.isalnum())\n",
    "        processed_token.append(token)\n",
    "    return ' '.join(processed_token)"
   ]
  },
  {
   "cell_type": "code",
   "execution_count": 88,
   "id": "d6bf1ef9",
   "metadata": {},
   "outputs": [],
   "source": [
    "# Drugs Names\n",
    "all_drugs = df['drugName'].unique().tolist()"
   ]
  },
  {
   "cell_type": "code",
   "execution_count": 89,
   "id": "cc4cc5af",
   "metadata": {},
   "outputs": [
    {
     "data": {
      "text/plain": [
       "False"
      ]
     },
     "execution_count": 89,
     "metadata": {},
     "output_type": "execute_result"
    }
   ],
   "source": [
    "all_drugs = [x.lower() for x in all_drugs]\n",
    "all_drugs==\"testim\""
   ]
  },
  {
   "cell_type": "code",
   "execution_count": 90,
   "id": "9ff54587",
   "metadata": {},
   "outputs": [
    {
     "data": {
      "text/plain": [
       "0         \"It has no side effect, I take it in combinati...\n",
       "1         \"My son is halfway through his fourth week of ...\n",
       "2         \"I used to take another oral contraceptive, wh...\n",
       "3         \"This is my first time using any form of birth...\n",
       "4         \"Suboxone has completely turned my life around...\n",
       "                                ...                        \n",
       "161292    \"I wrote my first report in Mid-October of 201...\n",
       "161293    \"I was given this in IV before surgey. I immed...\n",
       "161294    \"Limited improvement after 4 months, developed...\n",
       "161295    \"I&#039;ve been on thyroid medication 49 years...\n",
       "161296    \"I&#039;ve had chronic constipation all my adu...\n",
       "Name: review, Length: 161297, dtype: object"
      ]
     },
     "execution_count": 90,
     "metadata": {},
     "output_type": "execute_result"
    }
   ],
   "source": [
    "df['review']"
   ]
  },
  {
   "cell_type": "code",
   "execution_count": 91,
   "id": "1ba2f9a8",
   "metadata": {},
   "outputs": [],
   "source": [
    "count = 0\n",
    "TRAIN_DATA = []\n",
    "for _, item in df.iterrows():\n",
    "    ent_dict = {}\n",
    "    if count < 1000:\n",
    "        review = process_review(item['review'])\n",
    "        #Locate drugs and their positions once and add to the visited items.\n",
    "        visited_items = []\n",
    "        entities = []\n",
    "        for token in review.split():\n",
    "            if token in all_drugs:\n",
    "                for i in re.finditer(token, review):\n",
    "                    if token not in visited_items:\n",
    "                        entity = (i.span()[0], i.span()[1], 'DRUG')\n",
    "                        visited_items.append(token)\n",
    "                        entities.append(entity)\n",
    "        if len(entities) > 0:\n",
    "            ent_dict['entities'] = entities\n",
    "            train_item = (review, ent_dict)\n",
    "            TRAIN_DATA.append(train_item)\n",
    "            count+=1"
   ]
  },
  {
   "cell_type": "code",
   "execution_count": 92,
   "id": "d05c016c",
   "metadata": {},
   "outputs": [
    {
     "data": {
      "text/plain": [
       "[('my son is halfway through his fourth week of intuniv we became concerned when he began this last week when he started taking the highest dose he will be on for two days he could hardly get out of bed was very cranky and slept for nearly 8 hours on a drive home from school vacation very unusual for him i called his doctor on monday morning and she said to stick it out a few days see how he did at school and with getting up in the morning the last two days have been problem free he is much more agreeable than ever he is less emotional a good thing less cranky he is remembering all the things he should overall his behavior is better we have tried many different medications and so far this is the most effective',\n",
       "  {'entities': [(45, 52, 'DRUG')]}),\n",
       " ('i used to take another oral contraceptive which had 21 pill cycle and was very happy very light periods max 5 days no other side effects but it contained hormone gestodene which is not available in us so i switched to lybrel because the ingredients are similar when my other pills ended i started lybrel immediately on my first day of period as the instructions said and the period lasted for two weeks when taking the second pack same two weeks and now with third pack things got even worse my third period lasted for two weeks and now it039s the end of the third week i still have daily brown discharge the positive side is that i didn039t have any other side effects the idea of being period free was so tempting alas',\n",
       "  {'entities': [(218, 224, 'DRUG')]})]"
      ]
     },
     "execution_count": 92,
     "metadata": {},
     "output_type": "execute_result"
    }
   ],
   "source": [
    "TRAIN_DATA[1:3]"
   ]
  },
  {
   "cell_type": "markdown",
   "id": "e3abf257",
   "metadata": {},
   "source": [
    "# Training the NER Model"
   ]
  },
  {
   "cell_type": "markdown",
   "id": "ae205303",
   "metadata": {},
   "source": [
    "# Model 1"
   ]
  },
  {
   "cell_type": "code",
   "execution_count": 98,
   "id": "03d610d3",
   "metadata": {},
   "outputs": [],
   "source": [
    "n_iter = 20\n",
    "\n",
    "def train_ner(training_data):\n",
    "    \"\"\"Steps\n",
    "    Create a Blank NLP  model object\n",
    "    Create and add NER to the NLP model\n",
    "    Add Labels from your training data\n",
    "    Train  \n",
    "    \"\"\"\n",
    "    loss=np.array([])\n",
    "    TRAIN_DATA = training_data\n",
    "    nlp = spacy.blank(\"en\")  # create blank Language class\n",
    "    print(\"Created blank 'en' model\")\n",
    "    \n",
    "    if \"ner\" not in nlp.pipe_names:\n",
    "        ner = nlp.add_pipe(\"ner\",last=True)\n",
    "        #nlp.add_pipe(ner, last=True)\n",
    "    # otherwise, get it so we can add labels\n",
    "    else:\n",
    "        ner = nlp.get_pipe(\"ner\")\n",
    "        \n",
    "    # add labels\n",
    "    for _, annotations in TRAIN_DATA:\n",
    "        for ent in annotations.get(\"entities\"):\n",
    "            ner.add_label(ent[2])\n",
    "            \n",
    "    nlp.begin_training()\n",
    "    for itn in range(n_iter):\n",
    "        random.shuffle(TRAIN_DATA)\n",
    "        losses = {}\n",
    "        # batch up the examples using spaCy's minibatch\n",
    "        batches = minibatch(TRAIN_DATA, size=compounding(4.0, 32.0, 1.001))\n",
    "        for batch in batches:\n",
    "            texts, annotations = zip(*batch)\n",
    "            n_samples = len(texts)\n",
    "            for sample, label in zip(texts[:n_samples],annotations[:n_samples]):\n",
    "\n",
    "                    example = Example.from_dict(nlp.make_doc(sample), label)\n",
    "                    nlp.update([example],\n",
    "                        drop=0.35,  # dropout - make it harder to memorise data\n",
    "                        losses=losses,\n",
    "                    )\n",
    "        print(\"Losses\", losses)\n",
    "        loss = np.append(loss,losses[\"ner\"])\n",
    "    return nlp,loss"
   ]
  },
  {
   "cell_type": "code",
   "execution_count": 99,
   "id": "1d457be6",
   "metadata": {},
   "outputs": [
    {
     "name": "stdout",
     "output_type": "stream",
     "text": [
      "Created blank 'en' model\n",
      "Losses {'ner': 1476.4693413482346}\n",
      "Losses {'ner': 621.1470161071356}\n",
      "Losses {'ner': 460.84652243296495}\n",
      "Losses {'ner': 408.5085925863318}\n",
      "Losses {'ner': 354.0274824638392}\n",
      "Losses {'ner': 305.4900210366631}\n",
      "Losses {'ner': 281.38367453522454}\n",
      "Losses {'ner': 275.7851515544002}\n",
      "Losses {'ner': 228.99135671108903}\n",
      "Losses {'ner': 192.93567193208636}\n",
      "Losses {'ner': 177.15371035749666}\n",
      "Losses {'ner': 180.30321501383457}\n",
      "Losses {'ner': 156.0389068415934}\n",
      "Losses {'ner': 131.3795880573382}\n",
      "Losses {'ner': 135.13311816033192}\n",
      "Losses {'ner': 133.24631856635796}\n",
      "Losses {'ner': 124.24139604337125}\n",
      "Losses {'ner': 95.0174869344701}\n",
      "Losses {'ner': 87.8327337159944}\n",
      "Losses {'ner': 75.69145620204382}\n"
     ]
    }
   ],
   "source": [
    "# Let training\n",
    "nlp2,loss = train_ner(TRAIN_DATA[:400])"
   ]
  },
  {
   "cell_type": "code",
   "execution_count": 100,
   "id": "237064d9",
   "metadata": {},
   "outputs": [
    {
     "data": {
      "image/png": "[encoded data removed]",
      "text/plain": [
       "<Figure size 432x288 with 1 Axes>"
      ]
     },
     "metadata": {
      "needs_background": "light"
     },
     "output_type": "display_data"
    }
   ],
   "source": [
    "## plot the loss\n",
    "x=np.arange(1,n_iter+1)\n",
    "plt.plot(x,loss,label='train_loss')\n",
    "#plt.plot(x,hist_val,label='val_loss')\n",
    "plt.xlabel('Iteration',size=14)\n",
    "plt.ylabel('Loss function',size=14)\n",
    "plt.legend()\n",
    "plt.show()"
   ]
  },
  {
   "cell_type": "code",
   "execution_count": 101,
   "id": "b68e55f8",
   "metadata": {},
   "outputs": [
    {
     "name": "stdout",
     "output_type": "stream",
     "text": [
      "[(bystolic, 'DRUG')]\n",
      "[(intuniv, 'DRUG')]\n"
     ]
    }
   ],
   "source": [
    "for text,_ in TRAIN_DATA[:2]:\n",
    "    doc = nlp2(text)\n",
    "    result = [(ent,ent.label_) for ent in doc.ents]\n",
    "    print(result)"
   ]
  },
  {
   "cell_type": "code",
   "execution_count": 102,
   "id": "1306545a",
   "metadata": {},
   "outputs": [
    {
     "data": {
      "text/plain": [
       "[('it has no side effect i take it in combination of bystolic 5 mg and fish oil',\n",
       "  {'entities': [(50, 58, 'DRUG')]})]"
      ]
     },
     "execution_count": 102,
     "metadata": {},
     "output_type": "execute_result"
    }
   ],
   "source": [
    "TRAIN_DATA[:1]"
   ]
  },
  {
   "cell_type": "markdown",
   "id": "18394e13",
   "metadata": {},
   "source": [
    "# Model 2"
   ]
  },
  {
   "cell_type": "code",
   "execution_count": 103,
   "id": "b922e913",
   "metadata": {},
   "outputs": [],
   "source": [
    "nlp = spacy.load('en_core_web_sm')"
   ]
  },
  {
   "cell_type": "code",
   "execution_count": 104,
   "id": "69b12e0d",
   "metadata": {},
   "outputs": [
    {
     "name": "stderr",
     "output_type": "stream",
     "text": [
      "C:\\Users\\bauri\\anaconda3\\lib\\site-packages\\spacy\\training\\iob_utils.py:141: UserWarning: [W030] Some entities could not be aligned in the text \"many people are unreasonably scared of klonopin039...\" with entities \"[(39, 47, 'DRUG')]\". Use `spacy.training.offsets_to_biluo_tags(nlp.make_doc(text), entities)` to check the alignment. Misaligned entities ('-') will be ignored during training.\n",
      "  warnings.warn(\n",
      "C:\\Users\\bauri\\anaconda3\\lib\\site-packages\\spacy\\training\\iob_utils.py:141: UserWarning: [W030] Some entities could not be aligned in the text \"awful medicine the worst the side effects outweigh...\" with entities \"[(178, 183, 'DRUG'), (342, 350, 'DRUG')]\". Use `spacy.training.offsets_to_biluo_tags(nlp.make_doc(text), entities)` to check the alignment. Misaligned entities ('-') will be ignored during training.\n",
      "  warnings.warn(\n"
     ]
    },
    {
     "name": "stdout",
     "output_type": "stream",
     "text": [
      "Losses {'ner': 898.4494699900418}\n",
      "Losses {'ner': 570.9510760395482}\n",
      "Losses {'ner': 434.89532554848273}\n",
      "Losses {'ner': 361.91761319104893}\n",
      "Losses {'ner': 299.3772297728937}\n",
      "Losses {'ner': 276.6390556811748}\n",
      "Losses {'ner': 221.62571606205822}\n",
      "Losses {'ner': 202.92119564950963}\n",
      "Losses {'ner': 165.65638567605615}\n",
      "Losses {'ner': 148.34504822523007}\n",
      "Losses {'ner': 129.26997164772527}\n",
      "Losses {'ner': 113.90289238706552}\n",
      "Losses {'ner': 94.89393987314004}\n",
      "Losses {'ner': 115.55680217155803}\n",
      "Losses {'ner': 97.71490754590407}\n",
      "Losses {'ner': 98.9155575410243}\n",
      "Losses {'ner': 89.60194474818019}\n",
      "Losses {'ner': 74.6387717747956}\n",
      "Losses {'ner': 54.50974530661432}\n",
      "Losses {'ner': 64.68038665396445}\n"
     ]
    }
   ],
   "source": [
    "n_iter=20\n",
    "optimizer = nlp.begin_training()\n",
    "to_train_ents = TRAIN_DATA[:400]\n",
    "nlp = spacy.load('en_core_web_sm')\n",
    "los=np.array([])\n",
    "\n",
    "other_pipes = [pipe for pipe in nlp.pipe_names if pipe !='ner']\n",
    "\n",
    "with nlp.disable_pipes(*other_pipes): # only train NER\n",
    "    for itn in range(n_iter): # we are going to go throught the training data 20 times\n",
    "        losses = {}\n",
    "        random.shuffle(to_train_ents) # we shuffle the data \n",
    "        for item in to_train_ents:\n",
    "            example = Example.from_dict(nlp.make_doc(item[0]), item[1])\n",
    "            nlp.update([example],\n",
    "            sgd=optimizer,\n",
    "            drop = 0.35,\n",
    "            losses =  losses)\n",
    "        #print(\"Ner\",losses[\"ner\"])\n",
    "        print(\"Losses\", losses)\n",
    "        los = np.append(los,losses[\"ner\"])\n",
    "            # this update function Takes \n",
    "                       # the model we updated at the begininig at update it with the new information\n",
    "                       #about the tokens, the position of the tokens and the string.\n",
    "            "
   ]
  },
  {
   "cell_type": "code",
   "execution_count": 69,
   "id": "b765f3af",
   "metadata": {},
   "outputs": [
    {
     "data": {
      "image/png": "[encoded data removed]",
      "text/plain": [
       "<Figure size 432x288 with 1 Axes>"
      ]
     },
     "metadata": {
      "needs_background": "light"
     },
     "output_type": "display_data"
    }
   ],
   "source": [
    "## plot the loss\n",
    "x=np.arange(1,n_iter+1)\n",
    "plt.plot(x,los,label='train_loss')\n",
    "#plt.plot(x,hist_val,label='val_loss')\n",
    "plt.xlabel('Iteration',size=14)\n",
    "plt.ylabel('Loss function',size=14)\n",
    "plt.legend()\n",
    "plt.show()"
   ]
  },
  {
   "cell_type": "code",
   "execution_count": 70,
   "id": "e9e99962",
   "metadata": {},
   "outputs": [
    {
     "name": "stdout",
     "output_type": "stream",
     "text": [
      "[(bystolic, 'DRUG')]\n"
     ]
    }
   ],
   "source": [
    "for text,_ in TRAIN_DATA[:1]:\n",
    "    doc = nlp(text)\n",
    "    result = [(ent,ent.label_) for ent in doc.ents]\n",
    "    print(result)"
   ]
  },
  {
   "cell_type": "code",
   "execution_count": 57,
   "id": "ac13c18a",
   "metadata": {},
   "outputs": [
    {
     "data": {
      "text/plain": [
       "[('it has no side effect i take it in combination of bystolic 5 mg and fish oil',\n",
       "  {'entities': [(50, 58, 'DRUG')]})]"
      ]
     },
     "execution_count": 57,
     "metadata": {},
     "output_type": "execute_result"
    }
   ],
   "source": [
    "TRAIN_DATA[:1]"
   ]
  },
  {
   "cell_type": "markdown",
   "id": "52d38e3f",
   "metadata": {},
   "source": [
    "## Loss for the two model"
   ]
  },
  {
   "cell_type": "code",
   "execution_count": 108,
   "id": "d4fec7f8",
   "metadata": {},
   "outputs": [
    {
     "data": {
      "image/png": "[encoded data removed]",
      "text/plain": [
       "<Figure size 432x288 with 1 Axes>"
      ]
     },
     "metadata": {
      "needs_background": "light"
     },
     "output_type": "display_data"
    }
   ],
   "source": [
    "## plot the loss\n",
    "x=np.arange(1,n_iter+1)\n",
    "plt.plot(x,loss,label='Batch_model')\n",
    "plt.plot(x,los,label='Simple_model')\n",
    "plt.xlabel('Iteration',size=14)\n",
    "plt.ylabel('Loss function',size=14)\n",
    "plt.legend()\n",
    "plt.show()"
   ]
  },
  {
   "cell_type": "code",
   "execution_count": null,
   "id": "69546fb6",
   "metadata": {},
   "outputs": [],
   "source": []
  },
  {
   "cell_type": "markdown",
   "id": "03263ff5",
   "metadata": {},
   "source": [
    "# Extract drug entity "
   ]
  },
  {
   "cell_type": "markdown",
   "id": "80917f53",
   "metadata": {},
   "source": [
    "## Model 1"
   ]
  },
  {
   "cell_type": "code",
   "execution_count": 109,
   "id": "92199139",
   "metadata": {},
   "outputs": [],
   "source": [
    "def extract_drug_entity(text):\n",
    "    docx =  nlp2(text)\n",
    "    result = [(ent,ent.label_) for ent in docx.ents]\n",
    "    return result"
   ]
  },
  {
   "cell_type": "code",
   "execution_count": 110,
   "id": "e94bbe47",
   "metadata": {},
   "outputs": [
    {
     "data": {
      "text/plain": [
       "0    \"It has no side effect, I take it in combinati...\n",
       "1    \"My son is halfway through his fourth week of ...\n",
       "2    \"I used to take another oral contraceptive, wh...\n",
       "3    \"This is my first time using any form of birth...\n",
       "4    \"Suboxone has completely turned my life around...\n",
       "5    \"2nd day on 5mg started to work with rock hard...\n",
       "6    \"He pulled out, but he cummed a bit in me. I t...\n",
       "7    \"Abilify changed my life. There is hope. I was...\n",
       "8    \" I Ve had  nothing but problems with the Kepp...\n",
       "9    \"I had been on the pill for many years. When m...\n",
       "Name: review, dtype: object"
      ]
     },
     "execution_count": 110,
     "metadata": {},
     "output_type": "execute_result"
    }
   ],
   "source": [
    "df['review'][0:10]"
   ]
  },
  {
   "cell_type": "code",
   "execution_count": 111,
   "id": "acca2912",
   "metadata": {},
   "outputs": [
    {
     "data": {
      "text/plain": [
       "0                   [((Bystolic), DRUG), ((Mg), DRUG)]\n",
       "1                                  [((Intuniv), DRUG)]\n",
       "2                 [((Lybrel), DRUG), ((Lybrel), DRUG)]\n",
       "3                                                   []\n",
       "4                                [((oxycontin), DRUG)]\n",
       "5                                                   []\n",
       "6                                                   []\n",
       "7    [((Zoloft), DRUG), ((Clonidine), DRUG), ((Zolo...\n",
       "8                                                   []\n",
       "9                                  [((chateal), DRUG)]\n",
       "Name: review, dtype: object"
      ]
     },
     "execution_count": 111,
     "metadata": {},
     "output_type": "execute_result"
    }
   ],
   "source": [
    "df['review'][0:10].apply(extract_drug_entity)"
   ]
  },
  {
   "cell_type": "markdown",
   "id": "b0d27393",
   "metadata": {},
   "source": [
    "## Model 2"
   ]
  },
  {
   "cell_type": "code",
   "execution_count": 112,
   "id": "2f405052",
   "metadata": {},
   "outputs": [],
   "source": [
    "def extract_drug_entity_1(text):\n",
    "    docx =  nlp(text)\n",
    "    result = [(ent,ent.label_) for ent in docx.ents]\n",
    "    return result"
   ]
  },
  {
   "cell_type": "code",
   "execution_count": 113,
   "id": "e10cc4ac",
   "metadata": {},
   "outputs": [],
   "source": [
    "h = df['review'][0:10].apply(extract_drug_entity_1)"
   ]
  },
  {
   "cell_type": "code",
   "execution_count": 117,
   "id": "28464ca8",
   "metadata": {},
   "outputs": [
    {
     "data": {
      "text/plain": [
       "'\"It has no side effect, I take it in combination of Bystolic 5 Mg and Fish Oil\"'"
      ]
     },
     "execution_count": 117,
     "metadata": {},
     "output_type": "execute_result"
    }
   ],
   "source": [
    "df['review'][0]"
   ]
  },
  {
   "cell_type": "code",
   "execution_count": 115,
   "id": "edf78139",
   "metadata": {},
   "outputs": [
    {
     "data": {
      "text/plain": [
       "0                                 [((Bystolic), DRUG)]\n",
       "1                                  [((Intuniv), DRUG)]\n",
       "2                                   [((Lybrel), DRUG)]\n",
       "3                                                   []\n",
       "4            [((Suboxone), DRUG), ((oxycontin), DRUG)]\n",
       "5                                                   []\n",
       "6                                                   []\n",
       "7    [((Abilify), DRUG), ((Zoloft), DRUG), ((Clonid...\n",
       "8                                                   []\n",
       "9                                  [((chateal), DRUG)]\n",
       "Name: review, dtype: object"
      ]
     },
     "execution_count": 115,
     "metadata": {},
     "output_type": "execute_result"
    }
   ],
   "source": [
    "h"
   ]
  },
  {
   "cell_type": "markdown",
   "id": "e976606c",
   "metadata": {},
   "source": [
    "# Confusion Matrix for Spacy NER"
   ]
  },
  {
   "cell_type": "code",
   "execution_count": 121,
   "id": "8724f57d",
   "metadata": {},
   "outputs": [
    {
     "ename": "TypeError",
     "evalue": "Argument 'predicted' has incorrect type (expected spacy.tokens.doc.Doc, got tuple)",
     "output_type": "error",
     "traceback": [
      "\u001b[1;31m---------------------------------------------------------------------------\u001b[0m",
      "\u001b[1;31mTypeError\u001b[0m                                 Traceback (most recent call last)",
      "\u001b[1;32m<ipython-input-121-d77d63f1318d>\u001b[0m in \u001b[0;36m<module>\u001b[1;34m\u001b[0m\n\u001b[0;32m      1\u001b[0m \u001b[1;32mfor\u001b[0m \u001b[0mitem\u001b[0m \u001b[1;32min\u001b[0m \u001b[0mto_train_ents\u001b[0m\u001b[1;33m[\u001b[0m\u001b[1;33m:\u001b[0m\u001b[1;36m2\u001b[0m\u001b[1;33m]\u001b[0m\u001b[1;33m:\u001b[0m\u001b[1;33m\u001b[0m\u001b[1;33m\u001b[0m\u001b[0m\n\u001b[0;32m      2\u001b[0m     \u001b[0mexample\u001b[0m \u001b[1;33m=\u001b[0m \u001b[0mExample\u001b[0m\u001b[1;33m.\u001b[0m\u001b[0mfrom_dict\u001b[0m\u001b[1;33m(\u001b[0m\u001b[0mnlp\u001b[0m\u001b[1;33m.\u001b[0m\u001b[0mmake_doc\u001b[0m\u001b[1;33m(\u001b[0m\u001b[0mitem\u001b[0m\u001b[1;33m[\u001b[0m\u001b[1;36m0\u001b[0m\u001b[1;33m]\u001b[0m\u001b[1;33m)\u001b[0m\u001b[1;33m,\u001b[0m \u001b[0mitem\u001b[0m\u001b[1;33m[\u001b[0m\u001b[1;36m1\u001b[0m\u001b[1;33m]\u001b[0m\u001b[1;33m)\u001b[0m\u001b[1;33m\u001b[0m\u001b[1;33m\u001b[0m\u001b[0m\n\u001b[1;32m----> 3\u001b[1;33m \u001b[0mscorer\u001b[0m \u001b[1;33m=\u001b[0m \u001b[0mnlp\u001b[0m\u001b[1;33m.\u001b[0m\u001b[0mevaluate\u001b[0m\u001b[1;33m(\u001b[0m\u001b[0mExample\u001b[0m\u001b[1;33m.\u001b[0m\u001b[0mfrom_dict\u001b[0m\u001b[1;33m(\u001b[0m\u001b[0mto_train_ents\u001b[0m\u001b[1;33m[\u001b[0m\u001b[1;36m0\u001b[0m\u001b[1;33m]\u001b[0m\u001b[1;33m[\u001b[0m\u001b[1;33m:\u001b[0m\u001b[1;36m2\u001b[0m\u001b[1;33m]\u001b[0m\u001b[1;33m,\u001b[0m\u001b[0mto_train_ents\u001b[0m\u001b[1;33m[\u001b[0m\u001b[1;36m1\u001b[0m\u001b[1;33m]\u001b[0m\u001b[1;33m[\u001b[0m\u001b[1;33m:\u001b[0m\u001b[1;36m2\u001b[0m\u001b[1;33m]\u001b[0m\u001b[1;33m)\u001b[0m\u001b[1;33m)\u001b[0m\u001b[1;33m\u001b[0m\u001b[1;33m\u001b[0m\u001b[0m\n\u001b[0m",
      "\u001b[1;31mTypeError\u001b[0m: Argument 'predicted' has incorrect type (expected spacy.tokens.doc.Doc, got tuple)"
     ]
    }
   ],
   "source": [
    "for item in to_train_ents[:2]:\n",
    "    example = Example.from_dict(nlp.make_doc(item[0]), item[1])\n",
    "scorer = nlp.evaluate(Example.from_dict(to_train_ents[0][:2],to_train_ents[1][:2]))"
   ]
  },
  {
   "cell_type": "markdown",
   "id": "02942509",
   "metadata": {},
   "source": [
    "## Sample expected (target) values"
   ]
  },
  {
   "cell_type": "code",
   "execution_count": null,
   "id": "dc430f6d",
   "metadata": {},
   "outputs": [],
   "source": []
  },
  {
   "cell_type": "code",
   "execution_count": null,
   "id": "562ada9e",
   "metadata": {},
   "outputs": [],
   "source": []
  },
  {
   "cell_type": "code",
   "execution_count": null,
   "id": "05e8a39b",
   "metadata": {},
   "outputs": [],
   "source": []
  },
  {
   "cell_type": "code",
   "execution_count": null,
   "id": "d0259a28",
   "metadata": {},
   "outputs": [],
   "source": []
  },
  {
   "cell_type": "code",
   "execution_count": null,
   "id": "14afe601",
   "metadata": {},
   "outputs": [],
   "source": []
  },
  {
   "cell_type": "code",
   "execution_count": null,
   "id": "25c21822",
   "metadata": {},
   "outputs": [],
   "source": []
  },
  {
   "cell_type": "code",
   "execution_count": null,
   "id": "f01ac919",
   "metadata": {},
   "outputs": [],
   "source": []
  },
  {
   "cell_type": "code",
   "execution_count": null,
   "id": "be6b8400",
   "metadata": {},
   "outputs": [],
   "source": []
  },
  {
   "cell_type": "code",
   "execution_count": null,
   "id": "14828d3c",
   "metadata": {},
   "outputs": [],
   "source": []
  },
  {
   "cell_type": "code",
   "execution_count": null,
   "id": "1cf15725",
   "metadata": {},
   "outputs": [],
   "source": []
  },
  {
   "cell_type": "code",
   "execution_count": null,
   "id": "c76d21da",
   "metadata": {},
   "outputs": [],
   "source": []
  },
  {
   "cell_type": "code",
   "execution_count": null,
   "id": "266ddfb3",
   "metadata": {},
   "outputs": [],
   "source": []
  },
  {
   "cell_type": "code",
   "execution_count": null,
   "id": "db76d1da",
   "metadata": {},
   "outputs": [],
   "source": []
  },
  {
   "cell_type": "code",
   "execution_count": null,
   "id": "603a7907",
   "metadata": {},
   "outputs": [],
   "source": []
  },
  {
   "cell_type": "code",
   "execution_count": null,
   "id": "c272adf4",
   "metadata": {},
   "outputs": [],
   "source": []
  },
  {
   "cell_type": "code",
   "execution_count": null,
   "id": "571ba93e",
   "metadata": {},
   "outputs": [],
   "source": []
  },
  {
   "cell_type": "code",
   "execution_count": null,
   "id": "62cff402",
   "metadata": {},
   "outputs": [],
   "source": []
  },
  {
   "cell_type": "code",
   "execution_count": null,
   "id": "b881c349",
   "metadata": {},
   "outputs": [],
   "source": []
  },
  {
   "cell_type": "code",
   "execution_count": null,
   "id": "08b83549",
   "metadata": {},
   "outputs": [],
   "source": []
  },
  {
   "cell_type": "code",
   "execution_count": null,
   "id": "cf36068d",
   "metadata": {},
   "outputs": [],
   "source": []
  },
  {
   "cell_type": "code",
   "execution_count": null,
   "id": "92432716",
   "metadata": {},
   "outputs": [],
   "source": []
  }
 ],
 "metadata": {
  "kernelspec": {
   "display_name": "Python 3",
   "language": "python",
   "name": "python3"
  },
  "language_info": {
   "codemirror_mode": {
    "name": "ipython",
    "version": 3
   },
   "file_extension": ".py",
   "mimetype": "text/x-python",
   "name": "python",
   "nbconvert_exporter": "python",
   "pygments_lexer": "ipython3",
   "version": "3.8.8"
  }
 },
 "nbformat": 4,
 "nbformat_minor": 5
}
